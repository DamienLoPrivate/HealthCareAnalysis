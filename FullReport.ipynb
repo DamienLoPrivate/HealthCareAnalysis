{
 "cells": [
  {
   "cell_type": "markdown",
   "id": "b6d11bdd",
   "metadata": {},
   "source": [
    "<h1 style ='text-align: center;'> Statistical Analysis of The Effectiveness of Healthcare Coverage on Individual Health </h1>"
   ]
  },
  {
   "cell_type": "markdown",
   "id": "f1737168",
   "metadata": {},
   "source": [
    "<h3 style ='text-align: center;'> Author: Damien Lo, Rahil Patel, Yoonsuh Park (Dr. Hau Nguyen) </h3>"
   ]
  },
  {
   "cell_type": "markdown",
   "id": "945340c3",
   "metadata": {},
   "source": [
    "### Background Document Setup"
   ]
  },
  {
   "cell_type": "code",
   "execution_count": 1,
   "id": "f9105451",
   "metadata": {},
   "outputs": [
    {
     "name": "stdout",
     "output_type": "stream",
     "text": [
      "/Users/damienlo/Desktop/University/ECON 220L (Python)/Group Project\n"
     ]
    }
   ],
   "source": [
    "# Find Working Directory\n",
    "import os\n",
    "path = os.getcwd()\n",
    "print(path)"
   ]
  },
  {
   "cell_type": "code",
   "execution_count": 2,
   "id": "ac7b3aa3",
   "metadata": {},
   "outputs": [],
   "source": [
    "# Import necessary packages\n",
    "import numpy as np\n",
    "import pandas as pd\n",
    "import matplotlib.pyplot as plt\n",
    "import seaborn as sns\n",
    "import scipy.stats as stats\n",
    "from scipy.stats import ttest_ind\n",
    "from statsmodels.stats.proportion import proportions_ztest\n",
    "\n",
    "#Remove Scientific Notation (4 desimal places)\n",
    "pd.options.display.float_format = \"{:.4f}\".format"
   ]
  },
  {
   "cell_type": "markdown",
   "id": "576b6016",
   "metadata": {},
   "source": [
    "# Table of Contents\n",
    "* [Introduction](#anchor1)\n",
    "<br>\n",
    "\n",
    "* [Literature Review](#anchor2)\n",
    "    * [Levy, \"The impact of health insurance on Health\"](#anchor2.1) \n",
    "    * [McWilliams, \"Health consequences of uninsurance among adults in the United States: recent evidence and implications.\"](#anchor2.2) \n",
    "    * [Freeman, \"The Causal Effect of Health Insurance on Utilization and Outcomes in Adults: A Systematic Review of US Studies.\"](#anchor2.3)\n",
    "    * [Nixon, “The Relationship between Health Care Expenditure and Health Outcomes: Evidence and Caveats for a Causal Link.”](#anchor2.4)\n",
    "    * [Farag, “Health Expenditures, Health Outcomes and the Role of Good Governance.”](#anchor2.5)\n",
    "    * [Spithoven, “Why U.S. Health Care Expenditure and Ranking on Health Care Indicators Are so Different from Canada’s.”](#anchor2.6)\n",
    "<br>\n",
    "<br>\n",
    "\n",
    "* [Data Analysis](#anchor3)\n",
    "    * [Data Source](#anchor3.1)\n",
    "    * [Variables Observed](#anchor3.2)\n",
    "    * [Data Cleaning](#anchor3.3)\n",
    "    * [Graphed Trends and Analytics](#anchor3.4)\n",
    "    * [Hypothesis Testing](#anchor3.5)\n",
    "<br>\n",
    "<br>\n",
    "\n",
    "* [Conclusions](#anchor4)\n",
    "<br>\n",
    "\n",
    "* [Work Cited](#anchor5)"
   ]
  },
  {
   "cell_type": "markdown",
   "id": "5405053b",
   "metadata": {},
   "source": [
    "<a class = 'anchor' id= 'anchor1'></a>\n",
    "# Introduction"
   ]
  },
  {
   "cell_type": "markdown",
   "id": "1f348207",
   "metadata": {},
   "source": [
    "The United States is unique in its facilitation of healthcare. For instance, it is the only country among high-income countries to not guarantee government/public health coverage to all its residents. It is also stand-alone in its exorbitant national health expenditures, which amounted to $4.3 trillion in 2021, accounting for 18.3 percent of the economy (Martin, Anne B., et al.). This metric is nearly twice as much as the average OECD country, and health spending per person is three to four times higher than countries such as South Korea, New Zealand and Japan (Gunja, Munira Z., et al.). Despite this abundant spending on healthcare both by the government and the people, the U.S finds itself at the lower end of most health outcomes than its OECD peers. It has the highest rate of infant and maternal deaths with the latter being more than twice the OECD average, as well as the highest number of avoidable deaths–deaths that are preventable and treatable–which was 336 per 100,000 population in 2020, far higher than the OECD average of 225 (Gunja, Munira Z., et al.). This discrepancy between healthcare spending and health outcomes raises the question: Is all this spending actually beneficial for U.S residents’ health? It is crucial to ascertain where the U.S is lacking in its healthcare system so that policies and reforms can be made in accordance with what is working to improve health, and what is not. We have decided to investigate a specific facet of healthcare, health insurance. Health insurance spending, which includes Medicare, Medicaid and private health insurance spending, takes up around 66% of national health expenditures, making it an aspect worth investigating. Health insurance, at its core, is meant to increase access to healthcare and reduce the financial burden that comes with it, which can be interpreted as a means to improve health as people can access and afford care as needed or regularly. We will be conducting a simplified inquiry into whether the aforementioned relationship holds by looking at insured vs. uninsured data as well as self-reported health status data in order to see whether those that are insured report a better health status and vice versa. "
   ]
  },
  {
   "cell_type": "markdown",
   "id": "22b7354d",
   "metadata": {},
   "source": [
    "References:\n",
    "\n",
    "Martin, Anne B., et al. “National Health Care Spending in 2021: Decline in federal spending outweighs greater use of health care.” Health Affairs, vol. 42, no. 1, 2023, pp. 6–17, https://doi.org/10.1377/hlthaff.2022.01397. \n",
    "\n",
    "Gunja, Munira Z., et al. “U.S. Health Care from a Global Perspective, 2022: Accelerating Spending, Worsening Outcomes.” U.S. Health Care from a Global Perspective, 2022 | Commonwealth Fund, The Commonwealth Fund, 31 Jan. 2023, www.commonwealthfund.org/publications/issue-briefs/2023/jan/us-health-care-global-perspective-2022. \n",
    "\n",
    "“NHE Fact Sheet.” CMS.Gov, Centers for Medicare and Medicaid Services, 9 June 2023, www.cms.gov/data-research/statistics-trends-and-reports/national-health-expenditure-data/nhe-fact-sheet#:~:text=Historical%20NHE%2C%202021%3A,17%20percent%20of%20total%20NHE. \n",
    "\n",
    "Levy, Helen, and David Meltzer. “The impact of health insurance on Health.” Annual Review of Public Health, vol. 29, no. 1, 2008, pp. 399–409, https://doi.org/10.1146/annurev.publhealth.28.021406.144042. \n"
   ]
  },
  {
   "cell_type": "markdown",
   "id": "d3711f5f",
   "metadata": {},
   "source": [
    "<a class = 'anchor' id= 'anchor2'></a>\n",
    "# Literature Review"
   ]
  },
  {
   "cell_type": "markdown",
   "id": "159c4723",
   "metadata": {},
   "source": [
    "<a class = 'anchor' id= 'anchor2.1'></a>\n",
    "### Levy, \"The impact of health insurance on Health\"\n",
    "Levy, Helen, and David Meltzer. “The impact of health insurance on Health.” Annual Review of Public Health, vol. 29, no. 1, 2008, pp. 399–409, https://doi.org/10.1146/annurev.publhealth.28.021406.144042. Accessed 27 Oct. 2023"
   ]
  },
  {
   "cell_type": "markdown",
   "id": "11f92162",
   "metadata": {},
   "source": [
    "This article by Levy and Meltzer examines evidence on the impact of health insurance on health by referencing health insurance experiments, namely the RAND experiment, and other natural experiments to extract a conclusion on whether or not health insurance has an impact on health. They note that the RAND Health Insurance Experiment, where insurance coverage of varying degrees was randomly assigned, found that it improved the health of specific demographics such as individuals with poor vision or high blood pressure, but no clear relationship was established for the general population. Through the several natural experiments Levy and Meltzer reference, they find that Medicare specifically, increases consumption of medical care and may modestly improve self-reported health, but it has no established effect on mortality in the short-run. Their conclusions largely paint the picture that health insurance improves the overall health of vulnerable populations which include infants, children and AIDS patients, and also improves specific measures of health such as blood pressure, especially for those with low income. However, there is limited evidence on how health insurance affects health for the general population. "
   ]
  },
  {
   "cell_type": "markdown",
   "id": "1eb57827",
   "metadata": {},
   "source": [
    "<a class = 'anchor' id= 'anchor2.2'></a>\n",
    "### McWilliams, \"Health consequences of uninsurance among adults in the United States: recent evidence and implications.\"\n",
    "McWilliams, J Michael. “Health consequences of uninsurance among adults in the United States: recent evidence and implications.” The Milbank quarterly vol. 87,2 (2009): 443-94. doi:10.1111/j.1468-0009.2009.00564.x. Accessed 27 Oct. 2023\n"
   ]
  },
  {
   "cell_type": "markdown",
   "id": "b540f45e",
   "metadata": {},
   "source": [
    "This article by Michael J. McWilliams investigates the impact of not having health insurance on health. They conducted a systematic search of clinical and economic literature since 2002 to find that recent studies consistently show that having health insurance has significant and positive effects on various health outcomes which are most pronounced among older adults and those with acute or chronic illnesses. They also found similar evidence as the Levy and Meltzer study that those with conditions such as hypertension, heart disease, HIV infection etc. experience greater improvements in their health via health insurance. Another finding refers to the delayed health effects of health insurance, meaning that the effects reaped from health insurance may not show up immediately, but that long-term survival gains have been observed for adults with health insurance nonetheless. From these findings, McWilliams concludes that universal coverage would be beneficial as the evidence suggests that having health insurance improves the health of individuals to a certain extent. They specify that the mechanism of how the reforms are implemented such as cost-sharing and provider incentives should be considered to maximize the benefits of expanded or universal coverage. \n"
   ]
  },
  {
   "cell_type": "markdown",
   "id": "bcb603d3",
   "metadata": {},
   "source": [
    "<a class = 'anchor' id= 'anchor2.3'></a>\n",
    "### Freeman, \"The Causal Effect of Health Insurance on Utilization and Outcomes in Adults: A Systematic Review of US Studies.\"\n",
    "Freeman, Joseph D., et al. “The Causal Effect of Health Insurance on Utilization and Outcomes in Adults: A Systematic Review of US Studies.” Medical Care, vol. 46, no. 10, 2008, pp. 1023–32. JSTOR, http://www.jstor.org/stable/40221801. Accessed 3 Dec. 2023.\n"
   ]
  },
  {
   "cell_type": "markdown",
   "id": "cfce3265",
   "metadata": {},
   "source": [
    "This article examines the causal effect of health insurance on healthcare utilization and health outcomes by screening 9701 studies to exclude ones that are irrelevant. A total of 14 studies passed the primary screening process which included longitudinal cohort, quasi-experimental, and IV research design studies. Their findings show that the studies investigated consistently display that there is a causal effect between health insurance on health outcomes in that they all result in health improvements. However, these improvements were much less pronounced than previous research, namely the RAND Health Insurance Experiment (HIE). A key difference they find between the RAND HIE and their own results is that in the case of the RAND HIE, it indicated that poor individuals in low cost-sharing plans had better health outcomes on certain measures than their counterparts in high cost-sharing plans. However, their own results show no differences in health outcomes for the average person. They conclude by making an overall recommendation that extending health insurance to the uninsured is evidenced to improve health outcomes. \n"
   ]
  },
  {
   "cell_type": "markdown",
   "id": "951cfe8a",
   "metadata": {},
   "source": [
    "<a class = 'anchor' id= 'anchor2.4'></a>\n",
    "### Nixon, \"The Relationship between Health Care Expenditure and Health Outcomes: Evidence and Caveats for a Causal Link.\"\n",
    "Nixon, John, and Philippe Ulmann. “The Relationship between Health Care Expenditure and Health Outcomes: Evidence and Caveats for a Causal Link.” The European Journal of Health Economics, vol. 7, no. 1, 2006, pp. 7–18. JSTOR, http://www.jstor.org/stable/20445502. Accessed 27 Oct. 2023."
   ]
  },
  {
   "cell_type": "markdown",
   "id": "316512bb",
   "metadata": {},
   "source": [
    "This article discusses the relationship between health care expenditure and health outcomes by conducting an empirical study of countries in the European Union. The analysis focuses on life expectancy and infant mortality as the health outcomes and health care expenditure, life-style, environment and occupational factors as the inputs of the relationship between expenditure and health outcomes. They find that their long-run analyses indicate that health care has a relatively weak impact on life expectancy, but that there is a considerable impact of health care on infant mortality. The authors note that defining a relationship between expenditure and health outcomes is a complicated issue since health expenditure is only one of a web of factors that contribute to health outcomes, and that their findings should be interpreted with this complexity in mind. They also acknowledge that their available sample was not sufficient to test for the existence of any lag structure in the explanatory variable such as expenditure on cigarettes, alcohol consumption and environmental influences. "
   ]
  },
  {
   "cell_type": "markdown",
   "id": "ff4055cf",
   "metadata": {},
   "source": [
    "<a class = 'anchor' id= 'anchor2.5'></a>\n",
    "### Farag, \"Health Expenditures, Health Outcomes and the Role of Good Governance.\"\n",
    "Farag, Marwa, et al. “Health Expenditures, Health Outcomes and the Role of Good Governance.” International Journal of Health Care Finance and Economics, vol. 13, no. 1, 2013, pp. 33–52. JSTOR, http://www.jstor.org/stable/23352541. Accessed 27 Oct. 2023."
   ]
  },
  {
   "cell_type": "markdown",
   "id": "805728a5",
   "metadata": {},
   "source": [
    "This paper focuses on developing countries and the struggles they face in improving their populations’ health considering the conflicting evidence they face. Many empirical studies suggest that investing in health care does very little for improving population health outcomes when the country’s income is controlled for, meaning that just developing the country’s economy in general is what will actually affect health outcomes for their population. Other studies, however, back the stance that health care expenditures directly affect health outcomes. The authors thus examine the relationship between a country’s health expenditures and health outcomes, represented by infant mortality and child mortality to reconcile the two perspectives and add to previous studies. The authors conduct an empirical analysis by estimating multivariate regressions that use country level health outcomes as the dependent variable and health spendings and GDP per capita as the main explanatory variables. They split the analysis into two sections, where section one considers the relationship between total health spending and health outcomes and section two considers the relationship between government health spending and health outcomes. Their findings suggest that though income proves to be a significant factor in improving health outcomes, health spending is also an important determinant. Government health spending also turns out to have a significant effect on reducing infant and child mortality according to the authors’ analyses, and that the return on public investment in health care depends on the level of government effectiveness achieved by the country. "
   ]
  },
  {
   "cell_type": "markdown",
   "id": "e169632f",
   "metadata": {},
   "source": [
    "<a class = 'anchor' id= 'anchor2.6'></a>\n",
    "### Spithoven, \"Why U.S. Health Care Expenditure and Ranking on Health Care Indicators Are so Different from Canada’s.\"\n",
    "Spithoven, A. H. G. M. “Why U.S. Health Care Expenditure and Ranking on Health Care Indicators Are so Different from Canada’s.” International Journal of Health Care Finance and Economics, vol. 9, no. 1, 2009, pp. 1–24. JSTOR, http://www.jstor.org/stable/40270601. Accessed 27 Oct. 2023.\n",
    "\n",
    "\n"
   ]
  },
  {
   "cell_type": "markdown",
   "id": "a7cbe6bc",
   "metadata": {},
   "source": [
    "This study examines the discrepancy between health expenditure and health indicators for the United States by quantifying the impact of different variables on health care spending for the year of 2002 such as pharmaceutical prices, investment in technology, physician’s income etc. to arrive at a possible explanation as to why health expenditure is so high. They find that supply factors explain a larger part of health care expenditure than demand factors. Comparing the U.S. to Canada, the authors explain that the difference in expenditures seem to arise from the contrasting national cultures. They claim that the U.S.’s strong belief in individualism and limited government intervention compared with Canada’s strong attachment to a robust public sector has an influence on the two country’s health expenditures. The U.S. cares less for adequacy and equity in access and income protection than they do for the freedom of choice for consumers and providers alike, according to the authors. This results in the relatively unequal distribution of income seen in the U.S. which contributes to the paradox of the high health care."
   ]
  },
  {
   "cell_type": "markdown",
   "id": "c9fbc215",
   "metadata": {},
   "source": [
    "<a class = 'anchor' id= 'anchor3'></a>\n",
    "# Data Analysis"
   ]
  },
  {
   "cell_type": "markdown",
   "id": "fe09c71c",
   "metadata": {},
   "source": [
    "<a class = 'anchor' id= 'anchor3.1'></a>\n",
    "## Data Source"
   ]
  },
  {
   "cell_type": "markdown",
   "id": "b9cbef7b",
   "metadata": {},
   "source": [
    "The IPUMS database is an indispensable resource for social science research since it contains a large amount of individual and population-level data from multiple worldwide surveys and censuses. IPUMS harmonizes and standardizes economic, social, and demographic datasets to give academics a unified and intuitive platform to analyze and assess data. Numerous topics are covered, such as employment, education, demographics, and more. By utilizing IPUMS, scholars can perform cross-temporal and cross-national analyses, resulting in a deeper understanding of societal dynamics and trends. Researchers can use this invaluable resource in a number of fields, such as economics, sociology, demography, and more. In particular, to evaluate and respond to our research question, we will be using IPUMS Health Surveys."
   ]
  },
  {
   "cell_type": "markdown",
   "id": "cef7c688",
   "metadata": {},
   "source": [
    "<a class = 'anchor' id= 'anchor3.2'></a>\n",
    "## Variables Observed"
   ]
  },
  {
   "cell_type": "markdown",
   "id": "b391ca15",
   "metadata": {},
   "source": [
    "The primary objective of this research project is to investigate the relationship between health insurance and overall health outcomes. We'll look at a number of significant factors to try and answer this. The primary independent variable is Health Insurance Coverage Status (HINOTCOVE), which categorizes survey participants as either having health insurance or not. This variable serves as the main frame of reference for understanding the potential impact of insurance on health. One of the most important components of the research is the dependent variable, health, which measures the respondents' state of health. It enables researchers to assess the general health of the population and maybe identify any disparities between those with and without health insurance. To provide demographic statistics on our sample, three minor variables that will be examined are age, gender, and race. These factors can provide helpful demographic context and help determine whether there are variations in health outcomes based on these demographic criteria. By examining the relationships between health insurance, health status, and demographic variables, the study hopes to clarify whether or not health insurance has a major impact on people's health."
   ]
  },
  {
   "cell_type": "markdown",
   "id": "be060334",
   "metadata": {},
   "source": [
    "### Data Imports"
   ]
  },
  {
   "cell_type": "code",
   "execution_count": 3,
   "id": "978d15e0",
   "metadata": {},
   "outputs": [
    {
     "data": {
      "text/html": [
       "<div>\n",
       "<style scoped>\n",
       "    .dataframe tbody tr th:only-of-type {\n",
       "        vertical-align: middle;\n",
       "    }\n",
       "\n",
       "    .dataframe tbody tr th {\n",
       "        vertical-align: top;\n",
       "    }\n",
       "\n",
       "    .dataframe thead th {\n",
       "        text-align: right;\n",
       "    }\n",
       "</style>\n",
       "<table border=\"1\" class=\"dataframe\">\n",
       "  <thead>\n",
       "    <tr style=\"text-align: right;\">\n",
       "      <th></th>\n",
       "      <th>RACE</th>\n",
       "      <th>RACED</th>\n",
       "    </tr>\n",
       "  </thead>\n",
       "  <tbody>\n",
       "    <tr>\n",
       "      <th>0</th>\n",
       "      <td>1</td>\n",
       "      <td>100</td>\n",
       "    </tr>\n",
       "    <tr>\n",
       "      <th>1</th>\n",
       "      <td>2</td>\n",
       "      <td>200</td>\n",
       "    </tr>\n",
       "    <tr>\n",
       "      <th>2</th>\n",
       "      <td>1</td>\n",
       "      <td>100</td>\n",
       "    </tr>\n",
       "    <tr>\n",
       "      <th>3</th>\n",
       "      <td>1</td>\n",
       "      <td>100</td>\n",
       "    </tr>\n",
       "    <tr>\n",
       "      <th>4</th>\n",
       "      <td>1</td>\n",
       "      <td>100</td>\n",
       "    </tr>\n",
       "    <tr>\n",
       "      <th>...</th>\n",
       "      <td>...</td>\n",
       "      <td>...</td>\n",
       "    </tr>\n",
       "    <tr>\n",
       "      <th>3214534</th>\n",
       "      <td>1</td>\n",
       "      <td>100</td>\n",
       "    </tr>\n",
       "    <tr>\n",
       "      <th>3214535</th>\n",
       "      <td>1</td>\n",
       "      <td>100</td>\n",
       "    </tr>\n",
       "    <tr>\n",
       "      <th>3214536</th>\n",
       "      <td>1</td>\n",
       "      <td>100</td>\n",
       "    </tr>\n",
       "    <tr>\n",
       "      <th>3214537</th>\n",
       "      <td>1</td>\n",
       "      <td>100</td>\n",
       "    </tr>\n",
       "    <tr>\n",
       "      <th>3214538</th>\n",
       "      <td>1</td>\n",
       "      <td>100</td>\n",
       "    </tr>\n",
       "  </tbody>\n",
       "</table>\n",
       "<p>3214539 rows × 2 columns</p>\n",
       "</div>"
      ],
      "text/plain": [
       "         RACE  RACED\n",
       "0           1    100\n",
       "1           2    200\n",
       "2           1    100\n",
       "3           1    100\n",
       "4           1    100\n",
       "...       ...    ...\n",
       "3214534     1    100\n",
       "3214535     1    100\n",
       "3214536     1    100\n",
       "3214537     1    100\n",
       "3214538     1    100\n",
       "\n",
       "[3214539 rows x 2 columns]"
      ]
     },
     "execution_count": 3,
     "metadata": {},
     "output_type": "execute_result"
    }
   ],
   "source": [
    "#Importing and Viewing Race Data\n",
    "dataRace = pd.read_csv(r\"/Users/damienlo/Desktop/University/ECON 220L (Python)/Group Project/Data/Race.csv.gz\")\n",
    "dataRace"
   ]
  },
  {
   "cell_type": "code",
   "execution_count": 4,
   "id": "54a13bdc",
   "metadata": {},
   "outputs": [
    {
     "name": "stdout",
     "output_type": "stream",
     "text": [
      "<class 'pandas.core.frame.DataFrame'>\n",
      "RangeIndex: 3214539 entries, 0 to 3214538\n",
      "Data columns (total 2 columns):\n",
      " #   Column  Dtype\n",
      "---  ------  -----\n",
      " 0   RACE    int64\n",
      " 1   RACED   int64\n",
      "dtypes: int64(2)\n",
      "memory usage: 49.1 MB\n"
     ]
    }
   ],
   "source": [
    "#Race Data Information\n",
    "dataRace.info()"
   ]
  },
  {
   "cell_type": "code",
   "execution_count": 5,
   "id": "a4598339",
   "metadata": {},
   "outputs": [
    {
     "data": {
      "text/html": [
       "<div>\n",
       "<style scoped>\n",
       "    .dataframe tbody tr th:only-of-type {\n",
       "        vertical-align: middle;\n",
       "    }\n",
       "\n",
       "    .dataframe tbody tr th {\n",
       "        vertical-align: top;\n",
       "    }\n",
       "\n",
       "    .dataframe thead th {\n",
       "        text-align: right;\n",
       "    }\n",
       "</style>\n",
       "<table border=\"1\" class=\"dataframe\">\n",
       "  <thead>\n",
       "    <tr style=\"text-align: right;\">\n",
       "      <th></th>\n",
       "      <th>AGE</th>\n",
       "      <th>SEX</th>\n",
       "      <th>HEALTH</th>\n",
       "      <th>HINOTCOVE</th>\n",
       "    </tr>\n",
       "  </thead>\n",
       "  <tbody>\n",
       "    <tr>\n",
       "      <th>0</th>\n",
       "      <td>79</td>\n",
       "      <td>2</td>\n",
       "      <td>3</td>\n",
       "      <td>1</td>\n",
       "    </tr>\n",
       "    <tr>\n",
       "      <th>1</th>\n",
       "      <td>55</td>\n",
       "      <td>2</td>\n",
       "      <td>3</td>\n",
       "      <td>1</td>\n",
       "    </tr>\n",
       "    <tr>\n",
       "      <th>2</th>\n",
       "      <td>49</td>\n",
       "      <td>1</td>\n",
       "      <td>3</td>\n",
       "      <td>1</td>\n",
       "    </tr>\n",
       "    <tr>\n",
       "      <th>3</th>\n",
       "      <td>16</td>\n",
       "      <td>1</td>\n",
       "      <td>3</td>\n",
       "      <td>1</td>\n",
       "    </tr>\n",
       "    <tr>\n",
       "      <th>4</th>\n",
       "      <td>37</td>\n",
       "      <td>1</td>\n",
       "      <td>3</td>\n",
       "      <td>1</td>\n",
       "    </tr>\n",
       "    <tr>\n",
       "      <th>...</th>\n",
       "      <td>...</td>\n",
       "      <td>...</td>\n",
       "      <td>...</td>\n",
       "      <td>...</td>\n",
       "    </tr>\n",
       "    <tr>\n",
       "      <th>72826</th>\n",
       "      <td>49</td>\n",
       "      <td>2</td>\n",
       "      <td>4</td>\n",
       "      <td>2</td>\n",
       "    </tr>\n",
       "    <tr>\n",
       "      <th>72827</th>\n",
       "      <td>40</td>\n",
       "      <td>2</td>\n",
       "      <td>5</td>\n",
       "      <td>1</td>\n",
       "    </tr>\n",
       "    <tr>\n",
       "      <th>72828</th>\n",
       "      <td>61</td>\n",
       "      <td>2</td>\n",
       "      <td>1</td>\n",
       "      <td>1</td>\n",
       "    </tr>\n",
       "    <tr>\n",
       "      <th>72829</th>\n",
       "      <td>66</td>\n",
       "      <td>1</td>\n",
       "      <td>1</td>\n",
       "      <td>1</td>\n",
       "    </tr>\n",
       "    <tr>\n",
       "      <th>72830</th>\n",
       "      <td>70</td>\n",
       "      <td>2</td>\n",
       "      <td>2</td>\n",
       "      <td>1</td>\n",
       "    </tr>\n",
       "  </tbody>\n",
       "</table>\n",
       "<p>72831 rows × 4 columns</p>\n",
       "</div>"
      ],
      "text/plain": [
       "       AGE  SEX  HEALTH  HINOTCOVE\n",
       "0       79    2       3          1\n",
       "1       55    2       3          1\n",
       "2       49    1       3          1\n",
       "3       16    1       3          1\n",
       "4       37    1       3          1\n",
       "...    ...  ...     ...        ...\n",
       "72826   49    2       4          2\n",
       "72827   40    2       5          1\n",
       "72828   61    2       1          1\n",
       "72829   66    1       1          1\n",
       "72830   70    2       2          1\n",
       "\n",
       "[72831 rows x 4 columns]"
      ]
     },
     "execution_count": 5,
     "metadata": {},
     "output_type": "execute_result"
    }
   ],
   "source": [
    "#Importing and Viewing Age, Sex, Health and Health Coverage Data\n",
    "dataHealth = pd.read_csv(r\"/Users/damienlo/Desktop/University/ECON 220L (Python)/Group Project/Data/Health Data.csv.gz\")\n",
    "dataHealth"
   ]
  },
  {
   "cell_type": "code",
   "execution_count": 6,
   "id": "a59b26b0",
   "metadata": {},
   "outputs": [
    {
     "name": "stdout",
     "output_type": "stream",
     "text": [
      "<class 'pandas.core.frame.DataFrame'>\n",
      "RangeIndex: 72831 entries, 0 to 72830\n",
      "Data columns (total 4 columns):\n",
      " #   Column     Non-Null Count  Dtype\n",
      "---  ------     --------------  -----\n",
      " 0   AGE        72831 non-null  int64\n",
      " 1   SEX        72831 non-null  int64\n",
      " 2   HEALTH     72831 non-null  int64\n",
      " 3   HINOTCOVE  72831 non-null  int64\n",
      "dtypes: int64(4)\n",
      "memory usage: 2.2 MB\n"
     ]
    }
   ],
   "source": [
    "#Health Data Information\n",
    "dataHealth.info()"
   ]
  },
  {
   "cell_type": "markdown",
   "id": "a677ebe3",
   "metadata": {},
   "source": [
    "<a class = 'anchor' id= 'anchor3.3'></a>\n",
    "## Data Cleaning"
   ]
  },
  {
   "cell_type": "markdown",
   "id": "526fe969",
   "metadata": {},
   "source": [
    "<u>Race<u>\n",
    "    \n",
    "The intitial data set included 9 categories of races; \"White\", \"Black/African American\", \"American Indian or Alaska Native\", \"Chinese\", \"Japanese\", \"Other Asian or Pacific Islander\", \"Other Race, nec\", \"Two major races\", \"Three or more major races\" assgined values 1 to 9 respectivly. For the purpose of simplifying our study, we categorised our data set into \"white\", \"black\", and \"other\" assigning a value of 1 to each observation's race and 0 to all other races. This was accomplished by using if-else expressions and assigning a unique number to each of the three groups. "
   ]
  },
  {
   "cell_type": "code",
   "execution_count": 7,
   "id": "61624ced",
   "metadata": {},
   "outputs": [
    {
     "data": {
      "text/html": [
       "<div>\n",
       "<style scoped>\n",
       "    .dataframe tbody tr th:only-of-type {\n",
       "        vertical-align: middle;\n",
       "    }\n",
       "\n",
       "    .dataframe tbody tr th {\n",
       "        vertical-align: top;\n",
       "    }\n",
       "\n",
       "    .dataframe thead th {\n",
       "        text-align: right;\n",
       "    }\n",
       "</style>\n",
       "<table border=\"1\" class=\"dataframe\">\n",
       "  <thead>\n",
       "    <tr style=\"text-align: right;\">\n",
       "      <th></th>\n",
       "      <th>RACE</th>\n",
       "      <th>RACED</th>\n",
       "    </tr>\n",
       "  </thead>\n",
       "  <tbody>\n",
       "    <tr>\n",
       "      <th>0</th>\n",
       "      <td>1</td>\n",
       "      <td>100</td>\n",
       "    </tr>\n",
       "    <tr>\n",
       "      <th>1</th>\n",
       "      <td>2</td>\n",
       "      <td>200</td>\n",
       "    </tr>\n",
       "    <tr>\n",
       "      <th>2</th>\n",
       "      <td>1</td>\n",
       "      <td>100</td>\n",
       "    </tr>\n",
       "    <tr>\n",
       "      <th>3</th>\n",
       "      <td>1</td>\n",
       "      <td>100</td>\n",
       "    </tr>\n",
       "    <tr>\n",
       "      <th>4</th>\n",
       "      <td>1</td>\n",
       "      <td>100</td>\n",
       "    </tr>\n",
       "    <tr>\n",
       "      <th>...</th>\n",
       "      <td>...</td>\n",
       "      <td>...</td>\n",
       "    </tr>\n",
       "    <tr>\n",
       "      <th>3214534</th>\n",
       "      <td>1</td>\n",
       "      <td>100</td>\n",
       "    </tr>\n",
       "    <tr>\n",
       "      <th>3214535</th>\n",
       "      <td>1</td>\n",
       "      <td>100</td>\n",
       "    </tr>\n",
       "    <tr>\n",
       "      <th>3214536</th>\n",
       "      <td>1</td>\n",
       "      <td>100</td>\n",
       "    </tr>\n",
       "    <tr>\n",
       "      <th>3214537</th>\n",
       "      <td>1</td>\n",
       "      <td>100</td>\n",
       "    </tr>\n",
       "    <tr>\n",
       "      <th>3214538</th>\n",
       "      <td>1</td>\n",
       "      <td>100</td>\n",
       "    </tr>\n",
       "  </tbody>\n",
       "</table>\n",
       "<p>3214539 rows × 2 columns</p>\n",
       "</div>"
      ],
      "text/plain": [
       "         RACE  RACED\n",
       "0           1    100\n",
       "1           2    200\n",
       "2           1    100\n",
       "3           1    100\n",
       "4           1    100\n",
       "...       ...    ...\n",
       "3214534     1    100\n",
       "3214535     1    100\n",
       "3214536     1    100\n",
       "3214537     1    100\n",
       "3214538     1    100\n",
       "\n",
       "[3214539 rows x 2 columns]"
      ]
     },
     "execution_count": 7,
     "metadata": {},
     "output_type": "execute_result"
    }
   ],
   "source": [
    "### Intial Inspection of Race Variable\n",
    "dataRace"
   ]
  },
  {
   "cell_type": "code",
   "execution_count": 8,
   "id": "49efe801",
   "metadata": {},
   "outputs": [
    {
     "data": {
      "text/html": [
       "<div>\n",
       "<style scoped>\n",
       "    .dataframe tbody tr th:only-of-type {\n",
       "        vertical-align: middle;\n",
       "    }\n",
       "\n",
       "    .dataframe tbody tr th {\n",
       "        vertical-align: top;\n",
       "    }\n",
       "\n",
       "    .dataframe thead th {\n",
       "        text-align: right;\n",
       "    }\n",
       "</style>\n",
       "<table border=\"1\" class=\"dataframe\">\n",
       "  <thead>\n",
       "    <tr style=\"text-align: right;\">\n",
       "      <th></th>\n",
       "      <th>RACE</th>\n",
       "      <th>WHITE</th>\n",
       "      <th>BLACK</th>\n",
       "      <th>OTHER</th>\n",
       "    </tr>\n",
       "  </thead>\n",
       "  <tbody>\n",
       "    <tr>\n",
       "      <th>0</th>\n",
       "      <td>1</td>\n",
       "      <td>1</td>\n",
       "      <td>0</td>\n",
       "      <td>0</td>\n",
       "    </tr>\n",
       "    <tr>\n",
       "      <th>1</th>\n",
       "      <td>2</td>\n",
       "      <td>0</td>\n",
       "      <td>1</td>\n",
       "      <td>0</td>\n",
       "    </tr>\n",
       "    <tr>\n",
       "      <th>2</th>\n",
       "      <td>1</td>\n",
       "      <td>1</td>\n",
       "      <td>0</td>\n",
       "      <td>0</td>\n",
       "    </tr>\n",
       "    <tr>\n",
       "      <th>3</th>\n",
       "      <td>1</td>\n",
       "      <td>1</td>\n",
       "      <td>0</td>\n",
       "      <td>0</td>\n",
       "    </tr>\n",
       "    <tr>\n",
       "      <th>4</th>\n",
       "      <td>1</td>\n",
       "      <td>1</td>\n",
       "      <td>0</td>\n",
       "      <td>0</td>\n",
       "    </tr>\n",
       "    <tr>\n",
       "      <th>5</th>\n",
       "      <td>1</td>\n",
       "      <td>1</td>\n",
       "      <td>0</td>\n",
       "      <td>0</td>\n",
       "    </tr>\n",
       "    <tr>\n",
       "      <th>6</th>\n",
       "      <td>1</td>\n",
       "      <td>1</td>\n",
       "      <td>0</td>\n",
       "      <td>0</td>\n",
       "    </tr>\n",
       "    <tr>\n",
       "      <th>7</th>\n",
       "      <td>1</td>\n",
       "      <td>1</td>\n",
       "      <td>0</td>\n",
       "      <td>0</td>\n",
       "    </tr>\n",
       "    <tr>\n",
       "      <th>8</th>\n",
       "      <td>1</td>\n",
       "      <td>1</td>\n",
       "      <td>0</td>\n",
       "      <td>0</td>\n",
       "    </tr>\n",
       "    <tr>\n",
       "      <th>9</th>\n",
       "      <td>1</td>\n",
       "      <td>1</td>\n",
       "      <td>0</td>\n",
       "      <td>0</td>\n",
       "    </tr>\n",
       "    <tr>\n",
       "      <th>10</th>\n",
       "      <td>2</td>\n",
       "      <td>0</td>\n",
       "      <td>1</td>\n",
       "      <td>0</td>\n",
       "    </tr>\n",
       "    <tr>\n",
       "      <th>11</th>\n",
       "      <td>2</td>\n",
       "      <td>0</td>\n",
       "      <td>1</td>\n",
       "      <td>0</td>\n",
       "    </tr>\n",
       "    <tr>\n",
       "      <th>12</th>\n",
       "      <td>7</td>\n",
       "      <td>0</td>\n",
       "      <td>0</td>\n",
       "      <td>1</td>\n",
       "    </tr>\n",
       "    <tr>\n",
       "      <th>13</th>\n",
       "      <td>1</td>\n",
       "      <td>1</td>\n",
       "      <td>0</td>\n",
       "      <td>0</td>\n",
       "    </tr>\n",
       "    <tr>\n",
       "      <th>14</th>\n",
       "      <td>1</td>\n",
       "      <td>1</td>\n",
       "      <td>0</td>\n",
       "      <td>0</td>\n",
       "    </tr>\n",
       "    <tr>\n",
       "      <th>15</th>\n",
       "      <td>2</td>\n",
       "      <td>0</td>\n",
       "      <td>1</td>\n",
       "      <td>0</td>\n",
       "    </tr>\n",
       "    <tr>\n",
       "      <th>16</th>\n",
       "      <td>1</td>\n",
       "      <td>1</td>\n",
       "      <td>0</td>\n",
       "      <td>0</td>\n",
       "    </tr>\n",
       "    <tr>\n",
       "      <th>17</th>\n",
       "      <td>2</td>\n",
       "      <td>0</td>\n",
       "      <td>1</td>\n",
       "      <td>0</td>\n",
       "    </tr>\n",
       "    <tr>\n",
       "      <th>18</th>\n",
       "      <td>1</td>\n",
       "      <td>1</td>\n",
       "      <td>0</td>\n",
       "      <td>0</td>\n",
       "    </tr>\n",
       "    <tr>\n",
       "      <th>19</th>\n",
       "      <td>1</td>\n",
       "      <td>1</td>\n",
       "      <td>0</td>\n",
       "      <td>0</td>\n",
       "    </tr>\n",
       "    <tr>\n",
       "      <th>20</th>\n",
       "      <td>1</td>\n",
       "      <td>1</td>\n",
       "      <td>0</td>\n",
       "      <td>0</td>\n",
       "    </tr>\n",
       "    <tr>\n",
       "      <th>21</th>\n",
       "      <td>2</td>\n",
       "      <td>0</td>\n",
       "      <td>1</td>\n",
       "      <td>0</td>\n",
       "    </tr>\n",
       "    <tr>\n",
       "      <th>22</th>\n",
       "      <td>1</td>\n",
       "      <td>1</td>\n",
       "      <td>0</td>\n",
       "      <td>0</td>\n",
       "    </tr>\n",
       "    <tr>\n",
       "      <th>23</th>\n",
       "      <td>1</td>\n",
       "      <td>1</td>\n",
       "      <td>0</td>\n",
       "      <td>0</td>\n",
       "    </tr>\n",
       "    <tr>\n",
       "      <th>24</th>\n",
       "      <td>2</td>\n",
       "      <td>0</td>\n",
       "      <td>1</td>\n",
       "      <td>0</td>\n",
       "    </tr>\n",
       "    <tr>\n",
       "      <th>25</th>\n",
       "      <td>1</td>\n",
       "      <td>1</td>\n",
       "      <td>0</td>\n",
       "      <td>0</td>\n",
       "    </tr>\n",
       "    <tr>\n",
       "      <th>26</th>\n",
       "      <td>1</td>\n",
       "      <td>1</td>\n",
       "      <td>0</td>\n",
       "      <td>0</td>\n",
       "    </tr>\n",
       "    <tr>\n",
       "      <th>27</th>\n",
       "      <td>1</td>\n",
       "      <td>1</td>\n",
       "      <td>0</td>\n",
       "      <td>0</td>\n",
       "    </tr>\n",
       "    <tr>\n",
       "      <th>28</th>\n",
       "      <td>2</td>\n",
       "      <td>0</td>\n",
       "      <td>1</td>\n",
       "      <td>0</td>\n",
       "    </tr>\n",
       "    <tr>\n",
       "      <th>29</th>\n",
       "      <td>1</td>\n",
       "      <td>1</td>\n",
       "      <td>0</td>\n",
       "      <td>0</td>\n",
       "    </tr>\n",
       "    <tr>\n",
       "      <th>30</th>\n",
       "      <td>1</td>\n",
       "      <td>1</td>\n",
       "      <td>0</td>\n",
       "      <td>0</td>\n",
       "    </tr>\n",
       "    <tr>\n",
       "      <th>31</th>\n",
       "      <td>1</td>\n",
       "      <td>1</td>\n",
       "      <td>0</td>\n",
       "      <td>0</td>\n",
       "    </tr>\n",
       "    <tr>\n",
       "      <th>32</th>\n",
       "      <td>2</td>\n",
       "      <td>0</td>\n",
       "      <td>1</td>\n",
       "      <td>0</td>\n",
       "    </tr>\n",
       "    <tr>\n",
       "      <th>33</th>\n",
       "      <td>2</td>\n",
       "      <td>0</td>\n",
       "      <td>1</td>\n",
       "      <td>0</td>\n",
       "    </tr>\n",
       "    <tr>\n",
       "      <th>34</th>\n",
       "      <td>1</td>\n",
       "      <td>1</td>\n",
       "      <td>0</td>\n",
       "      <td>0</td>\n",
       "    </tr>\n",
       "    <tr>\n",
       "      <th>35</th>\n",
       "      <td>1</td>\n",
       "      <td>1</td>\n",
       "      <td>0</td>\n",
       "      <td>0</td>\n",
       "    </tr>\n",
       "    <tr>\n",
       "      <th>36</th>\n",
       "      <td>1</td>\n",
       "      <td>1</td>\n",
       "      <td>0</td>\n",
       "      <td>0</td>\n",
       "    </tr>\n",
       "    <tr>\n",
       "      <th>37</th>\n",
       "      <td>2</td>\n",
       "      <td>0</td>\n",
       "      <td>1</td>\n",
       "      <td>0</td>\n",
       "    </tr>\n",
       "    <tr>\n",
       "      <th>38</th>\n",
       "      <td>1</td>\n",
       "      <td>1</td>\n",
       "      <td>0</td>\n",
       "      <td>0</td>\n",
       "    </tr>\n",
       "    <tr>\n",
       "      <th>39</th>\n",
       "      <td>1</td>\n",
       "      <td>1</td>\n",
       "      <td>0</td>\n",
       "      <td>0</td>\n",
       "    </tr>\n",
       "  </tbody>\n",
       "</table>\n",
       "</div>"
      ],
      "text/plain": [
       "    RACE  WHITE  BLACK  OTHER\n",
       "0      1      1      0      0\n",
       "1      2      0      1      0\n",
       "2      1      1      0      0\n",
       "3      1      1      0      0\n",
       "4      1      1      0      0\n",
       "5      1      1      0      0\n",
       "6      1      1      0      0\n",
       "7      1      1      0      0\n",
       "8      1      1      0      0\n",
       "9      1      1      0      0\n",
       "10     2      0      1      0\n",
       "11     2      0      1      0\n",
       "12     7      0      0      1\n",
       "13     1      1      0      0\n",
       "14     1      1      0      0\n",
       "15     2      0      1      0\n",
       "16     1      1      0      0\n",
       "17     2      0      1      0\n",
       "18     1      1      0      0\n",
       "19     1      1      0      0\n",
       "20     1      1      0      0\n",
       "21     2      0      1      0\n",
       "22     1      1      0      0\n",
       "23     1      1      0      0\n",
       "24     2      0      1      0\n",
       "25     1      1      0      0\n",
       "26     1      1      0      0\n",
       "27     1      1      0      0\n",
       "28     2      0      1      0\n",
       "29     1      1      0      0\n",
       "30     1      1      0      0\n",
       "31     1      1      0      0\n",
       "32     2      0      1      0\n",
       "33     2      0      1      0\n",
       "34     1      1      0      0\n",
       "35     1      1      0      0\n",
       "36     1      1      0      0\n",
       "37     2      0      1      0\n",
       "38     1      1      0      0\n",
       "39     1      1      0      0"
      ]
     },
     "execution_count": 8,
     "metadata": {},
     "output_type": "execute_result"
    }
   ],
   "source": [
    "### Create \"race\" variable; 1 if white, 2 if black, 3 if anything else\n",
    "def raceIsWhite(x):\n",
    "    if x==1:\n",
    "        return 1\n",
    "    else:\n",
    "        return 0\n",
    "    \n",
    "def raceIsBlack(x):\n",
    "    if x==2:\n",
    "        return 1\n",
    "    else:\n",
    "        return 0\n",
    "    \n",
    "def raceIsOther(x):\n",
    "    if x != 1 and x!= 2:\n",
    "        return 1\n",
    "    else:\n",
    "        return 0\n",
    "dataRace['WHITE'] = dataRace['RACE'].apply(raceIsWhite)\n",
    "dataRace['BLACK'] = dataRace['RACE'].apply(raceIsBlack)\n",
    "dataRace['OTHER'] = dataRace['RACE'].apply(raceIsOther)\n",
    "\n",
    "# Check\n",
    "dataRace[['RACE','WHITE','BLACK','OTHER']].head(40)"
   ]
  },
  {
   "cell_type": "code",
   "execution_count": 9,
   "id": "46f1ca86",
   "metadata": {},
   "outputs": [
    {
     "data": {
      "text/html": [
       "<div>\n",
       "<style scoped>\n",
       "    .dataframe tbody tr th:only-of-type {\n",
       "        vertical-align: middle;\n",
       "    }\n",
       "\n",
       "    .dataframe tbody tr th {\n",
       "        vertical-align: top;\n",
       "    }\n",
       "\n",
       "    .dataframe thead th {\n",
       "        text-align: right;\n",
       "    }\n",
       "</style>\n",
       "<table border=\"1\" class=\"dataframe\">\n",
       "  <thead>\n",
       "    <tr style=\"text-align: right;\">\n",
       "      <th></th>\n",
       "      <th>WHITE</th>\n",
       "      <th>BLACK</th>\n",
       "      <th>OTHER</th>\n",
       "    </tr>\n",
       "  </thead>\n",
       "  <tbody>\n",
       "    <tr>\n",
       "      <th>mean</th>\n",
       "      <td>0.7684</td>\n",
       "      <td>0.0965</td>\n",
       "      <td>0.1351</td>\n",
       "    </tr>\n",
       "    <tr>\n",
       "      <th>max</th>\n",
       "      <td>1.0000</td>\n",
       "      <td>1.0000</td>\n",
       "      <td>1.0000</td>\n",
       "    </tr>\n",
       "    <tr>\n",
       "      <th>min</th>\n",
       "      <td>0.0000</td>\n",
       "      <td>0.0000</td>\n",
       "      <td>0.0000</td>\n",
       "    </tr>\n",
       "    <tr>\n",
       "      <th>count</th>\n",
       "      <td>3214539.0000</td>\n",
       "      <td>3214539.0000</td>\n",
       "      <td>3214539.0000</td>\n",
       "    </tr>\n",
       "    <tr>\n",
       "      <th>std</th>\n",
       "      <td>0.4219</td>\n",
       "      <td>0.2953</td>\n",
       "      <td>0.3419</td>\n",
       "    </tr>\n",
       "  </tbody>\n",
       "</table>\n",
       "</div>"
      ],
      "text/plain": [
       "             WHITE        BLACK        OTHER\n",
       "mean        0.7684       0.0965       0.1351\n",
       "max         1.0000       1.0000       1.0000\n",
       "min         0.0000       0.0000       0.0000\n",
       "count 3214539.0000 3214539.0000 3214539.0000\n",
       "std         0.4219       0.2953       0.3419"
      ]
     },
     "execution_count": 9,
     "metadata": {},
     "output_type": "execute_result"
    }
   ],
   "source": [
    "###Statistical Analysis for RACE\n",
    "dataRace[['WHITE','BLACK','OTHER']].agg(['mean','max','min','count','std'])"
   ]
  },
  {
   "cell_type": "markdown",
   "id": "8cfd08b0",
   "metadata": {},
   "source": [
    "<u>Sex<u>\n",
    "\n",
    "The initial data set included 2 sexes; \"Male\" and \"Female\" assigned a value 1 and 2 respectively. We converted the data to a binary condition where a value of 1 is assigned if the data point is female, and 0 if it is male. This was achieved through an \"if else\" expression."
   ]
  },
  {
   "cell_type": "code",
   "execution_count": 10,
   "id": "c95c29d4",
   "metadata": {},
   "outputs": [
    {
     "data": {
      "text/plain": [
       "0        2\n",
       "1        2\n",
       "2        1\n",
       "3        1\n",
       "4        1\n",
       "        ..\n",
       "72826    2\n",
       "72827    2\n",
       "72828    2\n",
       "72829    1\n",
       "72830    2\n",
       "Name: SEX, Length: 72831, dtype: int64"
      ]
     },
     "execution_count": 10,
     "metadata": {},
     "output_type": "execute_result"
    }
   ],
   "source": [
    "### Intial Inspection of Sex Variable\n",
    "dataHealth['SEX']"
   ]
  },
  {
   "cell_type": "code",
   "execution_count": 11,
   "id": "90f761a3",
   "metadata": {},
   "outputs": [
    {
     "data": {
      "text/html": [
       "<div>\n",
       "<style scoped>\n",
       "    .dataframe tbody tr th:only-of-type {\n",
       "        vertical-align: middle;\n",
       "    }\n",
       "\n",
       "    .dataframe tbody tr th {\n",
       "        vertical-align: top;\n",
       "    }\n",
       "\n",
       "    .dataframe thead th {\n",
       "        text-align: right;\n",
       "    }\n",
       "</style>\n",
       "<table border=\"1\" class=\"dataframe\">\n",
       "  <thead>\n",
       "    <tr style=\"text-align: right;\">\n",
       "      <th></th>\n",
       "      <th>SEX</th>\n",
       "      <th>sexFem</th>\n",
       "    </tr>\n",
       "  </thead>\n",
       "  <tbody>\n",
       "    <tr>\n",
       "      <th>0</th>\n",
       "      <td>2</td>\n",
       "      <td>1</td>\n",
       "    </tr>\n",
       "    <tr>\n",
       "      <th>1</th>\n",
       "      <td>2</td>\n",
       "      <td>1</td>\n",
       "    </tr>\n",
       "    <tr>\n",
       "      <th>2</th>\n",
       "      <td>1</td>\n",
       "      <td>0</td>\n",
       "    </tr>\n",
       "    <tr>\n",
       "      <th>3</th>\n",
       "      <td>1</td>\n",
       "      <td>0</td>\n",
       "    </tr>\n",
       "    <tr>\n",
       "      <th>4</th>\n",
       "      <td>1</td>\n",
       "      <td>0</td>\n",
       "    </tr>\n",
       "    <tr>\n",
       "      <th>5</th>\n",
       "      <td>2</td>\n",
       "      <td>1</td>\n",
       "    </tr>\n",
       "    <tr>\n",
       "      <th>6</th>\n",
       "      <td>1</td>\n",
       "      <td>0</td>\n",
       "    </tr>\n",
       "    <tr>\n",
       "      <th>7</th>\n",
       "      <td>1</td>\n",
       "      <td>0</td>\n",
       "    </tr>\n",
       "    <tr>\n",
       "      <th>8</th>\n",
       "      <td>1</td>\n",
       "      <td>0</td>\n",
       "    </tr>\n",
       "    <tr>\n",
       "      <th>9</th>\n",
       "      <td>2</td>\n",
       "      <td>1</td>\n",
       "    </tr>\n",
       "    <tr>\n",
       "      <th>10</th>\n",
       "      <td>1</td>\n",
       "      <td>0</td>\n",
       "    </tr>\n",
       "    <tr>\n",
       "      <th>11</th>\n",
       "      <td>1</td>\n",
       "      <td>0</td>\n",
       "    </tr>\n",
       "    <tr>\n",
       "      <th>12</th>\n",
       "      <td>1</td>\n",
       "      <td>0</td>\n",
       "    </tr>\n",
       "    <tr>\n",
       "      <th>13</th>\n",
       "      <td>2</td>\n",
       "      <td>1</td>\n",
       "    </tr>\n",
       "    <tr>\n",
       "      <th>14</th>\n",
       "      <td>2</td>\n",
       "      <td>1</td>\n",
       "    </tr>\n",
       "    <tr>\n",
       "      <th>15</th>\n",
       "      <td>1</td>\n",
       "      <td>0</td>\n",
       "    </tr>\n",
       "    <tr>\n",
       "      <th>16</th>\n",
       "      <td>2</td>\n",
       "      <td>1</td>\n",
       "    </tr>\n",
       "    <tr>\n",
       "      <th>17</th>\n",
       "      <td>1</td>\n",
       "      <td>0</td>\n",
       "    </tr>\n",
       "    <tr>\n",
       "      <th>18</th>\n",
       "      <td>1</td>\n",
       "      <td>0</td>\n",
       "    </tr>\n",
       "    <tr>\n",
       "      <th>19</th>\n",
       "      <td>2</td>\n",
       "      <td>1</td>\n",
       "    </tr>\n",
       "    <tr>\n",
       "      <th>20</th>\n",
       "      <td>1</td>\n",
       "      <td>0</td>\n",
       "    </tr>\n",
       "    <tr>\n",
       "      <th>21</th>\n",
       "      <td>2</td>\n",
       "      <td>1</td>\n",
       "    </tr>\n",
       "    <tr>\n",
       "      <th>22</th>\n",
       "      <td>2</td>\n",
       "      <td>1</td>\n",
       "    </tr>\n",
       "    <tr>\n",
       "      <th>23</th>\n",
       "      <td>1</td>\n",
       "      <td>0</td>\n",
       "    </tr>\n",
       "    <tr>\n",
       "      <th>24</th>\n",
       "      <td>2</td>\n",
       "      <td>1</td>\n",
       "    </tr>\n",
       "    <tr>\n",
       "      <th>25</th>\n",
       "      <td>2</td>\n",
       "      <td>1</td>\n",
       "    </tr>\n",
       "    <tr>\n",
       "      <th>26</th>\n",
       "      <td>1</td>\n",
       "      <td>0</td>\n",
       "    </tr>\n",
       "    <tr>\n",
       "      <th>27</th>\n",
       "      <td>2</td>\n",
       "      <td>1</td>\n",
       "    </tr>\n",
       "    <tr>\n",
       "      <th>28</th>\n",
       "      <td>1</td>\n",
       "      <td>0</td>\n",
       "    </tr>\n",
       "    <tr>\n",
       "      <th>29</th>\n",
       "      <td>2</td>\n",
       "      <td>1</td>\n",
       "    </tr>\n",
       "    <tr>\n",
       "      <th>30</th>\n",
       "      <td>1</td>\n",
       "      <td>0</td>\n",
       "    </tr>\n",
       "    <tr>\n",
       "      <th>31</th>\n",
       "      <td>2</td>\n",
       "      <td>1</td>\n",
       "    </tr>\n",
       "    <tr>\n",
       "      <th>32</th>\n",
       "      <td>1</td>\n",
       "      <td>0</td>\n",
       "    </tr>\n",
       "    <tr>\n",
       "      <th>33</th>\n",
       "      <td>2</td>\n",
       "      <td>1</td>\n",
       "    </tr>\n",
       "    <tr>\n",
       "      <th>34</th>\n",
       "      <td>1</td>\n",
       "      <td>0</td>\n",
       "    </tr>\n",
       "    <tr>\n",
       "      <th>35</th>\n",
       "      <td>1</td>\n",
       "      <td>0</td>\n",
       "    </tr>\n",
       "    <tr>\n",
       "      <th>36</th>\n",
       "      <td>2</td>\n",
       "      <td>1</td>\n",
       "    </tr>\n",
       "    <tr>\n",
       "      <th>37</th>\n",
       "      <td>1</td>\n",
       "      <td>0</td>\n",
       "    </tr>\n",
       "    <tr>\n",
       "      <th>38</th>\n",
       "      <td>2</td>\n",
       "      <td>1</td>\n",
       "    </tr>\n",
       "    <tr>\n",
       "      <th>39</th>\n",
       "      <td>1</td>\n",
       "      <td>0</td>\n",
       "    </tr>\n",
       "  </tbody>\n",
       "</table>\n",
       "</div>"
      ],
      "text/plain": [
       "    SEX  sexFem\n",
       "0     2       1\n",
       "1     2       1\n",
       "2     1       0\n",
       "3     1       0\n",
       "4     1       0\n",
       "5     2       1\n",
       "6     1       0\n",
       "7     1       0\n",
       "8     1       0\n",
       "9     2       1\n",
       "10    1       0\n",
       "11    1       0\n",
       "12    1       0\n",
       "13    2       1\n",
       "14    2       1\n",
       "15    1       0\n",
       "16    2       1\n",
       "17    1       0\n",
       "18    1       0\n",
       "19    2       1\n",
       "20    1       0\n",
       "21    2       1\n",
       "22    2       1\n",
       "23    1       0\n",
       "24    2       1\n",
       "25    2       1\n",
       "26    1       0\n",
       "27    2       1\n",
       "28    1       0\n",
       "29    2       1\n",
       "30    1       0\n",
       "31    2       1\n",
       "32    1       0\n",
       "33    2       1\n",
       "34    1       0\n",
       "35    1       0\n",
       "36    2       1\n",
       "37    1       0\n",
       "38    2       1\n",
       "39    1       0"
      ]
     },
     "execution_count": 11,
     "metadata": {},
     "output_type": "execute_result"
    }
   ],
   "source": [
    "###SEX\n",
    "### Create 'sexFem' variable 1 if fem, 0 if not fem (male)\n",
    "def sexSort(x):\n",
    "    if x==2:\n",
    "        return 1\n",
    "    else:\n",
    "        return 0\n",
    "dataHealth['sexFem'] = dataHealth['SEX'].apply(sexSort)\n",
    "\n",
    "# Check\n",
    "dataHealth[['SEX','sexFem']].head(40)"
   ]
  },
  {
   "cell_type": "code",
   "execution_count": 12,
   "id": "7b1fa5b3",
   "metadata": {},
   "outputs": [
    {
     "data": {
      "text/html": [
       "<div>\n",
       "<style scoped>\n",
       "    .dataframe tbody tr th:only-of-type {\n",
       "        vertical-align: middle;\n",
       "    }\n",
       "\n",
       "    .dataframe tbody tr th {\n",
       "        vertical-align: top;\n",
       "    }\n",
       "\n",
       "    .dataframe thead th {\n",
       "        text-align: right;\n",
       "    }\n",
       "</style>\n",
       "<table border=\"1\" class=\"dataframe\">\n",
       "  <thead>\n",
       "    <tr style=\"text-align: right;\">\n",
       "      <th></th>\n",
       "      <th>sexFem</th>\n",
       "    </tr>\n",
       "  </thead>\n",
       "  <tbody>\n",
       "    <tr>\n",
       "      <th>mean</th>\n",
       "      <td>0.5119</td>\n",
       "    </tr>\n",
       "    <tr>\n",
       "      <th>max</th>\n",
       "      <td>1.0000</td>\n",
       "    </tr>\n",
       "    <tr>\n",
       "      <th>min</th>\n",
       "      <td>0.0000</td>\n",
       "    </tr>\n",
       "    <tr>\n",
       "      <th>count</th>\n",
       "      <td>72831.0000</td>\n",
       "    </tr>\n",
       "    <tr>\n",
       "      <th>std</th>\n",
       "      <td>0.4999</td>\n",
       "    </tr>\n",
       "  </tbody>\n",
       "</table>\n",
       "</div>"
      ],
      "text/plain": [
       "          sexFem\n",
       "mean      0.5119\n",
       "max       1.0000\n",
       "min       0.0000\n",
       "count 72831.0000\n",
       "std       0.4999"
      ]
     },
     "execution_count": 12,
     "metadata": {},
     "output_type": "execute_result"
    }
   ],
   "source": [
    "###Statistical Analysis for SEX\n",
    "dataHealth[['sexFem']].agg(['mean','max','min','count','std'])"
   ]
  },
  {
   "cell_type": "markdown",
   "id": "6d5e1091",
   "metadata": {},
   "source": [
    "<u>AGE<u>\n",
    "\n",
    "The intial data set included 140 categories for 140 age groups. For the purposes of simplifying our study we categorised our data set into 3 groups labeled: \"Young\", \"Middle\", \"Senior\" assigning the age ranges 0 to 17, 18 to 64 and 65 or above respectivly. This was achieved through the cut method."
   ]
  },
  {
   "cell_type": "code",
   "execution_count": 13,
   "id": "0969a6fa",
   "metadata": {},
   "outputs": [
    {
     "data": {
      "text/plain": [
       "0        79\n",
       "1        55\n",
       "2        49\n",
       "3        16\n",
       "4        37\n",
       "         ..\n",
       "72826    49\n",
       "72827    40\n",
       "72828    61\n",
       "72829    66\n",
       "72830    70\n",
       "Name: AGE, Length: 72831, dtype: int64"
      ]
     },
     "execution_count": 13,
     "metadata": {},
     "output_type": "execute_result"
    }
   ],
   "source": [
    "### Intial Inspection of Age Variable\n",
    "dataHealth['AGE']"
   ]
  },
  {
   "cell_type": "code",
   "execution_count": 14,
   "id": "d4234df2",
   "metadata": {},
   "outputs": [
    {
     "data": {
      "text/plain": [
       "young     16666\n",
       "middle    43253\n",
       "senior    12912\n",
       "Name: age_cat, dtype: int64"
      ]
     },
     "execution_count": 14,
     "metadata": {},
     "output_type": "execute_result"
    }
   ],
   "source": [
    "### AGE\n",
    "# Split sample into 3 categories by age\n",
    "group = ['young','middle','senior']\n",
    "limit = [0,18,65,100]\n",
    "dataHealth['age_cat'] = pd.cut(dataHealth['AGE'], bins=limit, labels=group, right=False)\n",
    "dataHealth['age_cat'].value_counts(sort=False)"
   ]
  },
  {
   "cell_type": "code",
   "execution_count": 15,
   "id": "1a3d7130",
   "metadata": {},
   "outputs": [
    {
     "data": {
      "text/html": [
       "<div>\n",
       "<style scoped>\n",
       "    .dataframe tbody tr th:only-of-type {\n",
       "        vertical-align: middle;\n",
       "    }\n",
       "\n",
       "    .dataframe tbody tr th {\n",
       "        vertical-align: top;\n",
       "    }\n",
       "\n",
       "    .dataframe thead th {\n",
       "        text-align: right;\n",
       "    }\n",
       "</style>\n",
       "<table border=\"1\" class=\"dataframe\">\n",
       "  <thead>\n",
       "    <tr style=\"text-align: right;\">\n",
       "      <th></th>\n",
       "      <th>AGE</th>\n",
       "    </tr>\n",
       "  </thead>\n",
       "  <tbody>\n",
       "    <tr>\n",
       "      <th>mean</th>\n",
       "      <td>39.8665</td>\n",
       "    </tr>\n",
       "    <tr>\n",
       "      <th>max</th>\n",
       "      <td>85.0000</td>\n",
       "    </tr>\n",
       "    <tr>\n",
       "      <th>min</th>\n",
       "      <td>0.0000</td>\n",
       "    </tr>\n",
       "    <tr>\n",
       "      <th>count</th>\n",
       "      <td>72831.0000</td>\n",
       "    </tr>\n",
       "    <tr>\n",
       "      <th>std</th>\n",
       "      <td>23.3463</td>\n",
       "    </tr>\n",
       "  </tbody>\n",
       "</table>\n",
       "</div>"
      ],
      "text/plain": [
       "             AGE\n",
       "mean     39.8665\n",
       "max      85.0000\n",
       "min       0.0000\n",
       "count 72831.0000\n",
       "std      23.3463"
      ]
     },
     "execution_count": 15,
     "metadata": {},
     "output_type": "execute_result"
    }
   ],
   "source": [
    "dataHealth[['AGE']].agg(['mean','max','min','count','std'])"
   ]
  },
  {
   "cell_type": "markdown",
   "id": "3f8c7cd9",
   "metadata": {},
   "source": [
    "<u>Health<u>\n",
    "\n",
    "The intial data set included 8 categories of health. The first 5 values ranging 1 to 5 rank health as best to worse respectively. The other 3 values, ranging from 7 to 9 categorise various levels of unknown health. For the purpose of unknown health, for the purpose of our study, we remove this data."
   ]
  },
  {
   "cell_type": "code",
   "execution_count": 16,
   "id": "df25116b",
   "metadata": {
    "scrolled": true
   },
   "outputs": [
    {
     "data": {
      "text/plain": [
       "1    25109\n",
       "2    22683\n",
       "3    17432\n",
       "4     5822\n",
       "5     1711\n",
       "7       50\n",
       "9       24\n",
       "Name: HEALTH, dtype: int64"
      ]
     },
     "execution_count": 16,
     "metadata": {},
     "output_type": "execute_result"
    }
   ],
   "source": [
    "### Intial Inspection of Health Variable\n",
    "dataHealth['HEALTH'].value_counts()"
   ]
  },
  {
   "cell_type": "code",
   "execution_count": 17,
   "id": "56098f36",
   "metadata": {},
   "outputs": [
    {
     "data": {
      "text/plain": [
       "1    25109\n",
       "2    22683\n",
       "3    17432\n",
       "4     5822\n",
       "5     1711\n",
       "Name: HEALTH, dtype: int64"
      ]
     },
     "execution_count": 17,
     "metadata": {},
     "output_type": "execute_result"
    }
   ],
   "source": [
    "###HEALTH\n",
    "###Remove 7, 8, 9 (Unknown)\n",
    "strange7 = dataHealth[dataHealth['HEALTH'] == 7]\n",
    "strange8 = dataHealth[dataHealth['HEALTH'] == 8]\n",
    "strange9 = dataHealth[dataHealth['HEALTH'] == 9]\n",
    "dataHealth = dataHealth.drop(strange7.index)\n",
    "dataHealth = dataHealth.drop(strange8.index)\n",
    "dataHealth = dataHealth.drop(strange9.index)\n",
    "dataHealth['HEALTH'].value_counts()"
   ]
  },
  {
   "cell_type": "markdown",
   "id": "33e2f285",
   "metadata": {},
   "source": [
    "<u>HINOTCOVE<u>\n",
    "    \n",
    "The initial data set describing healthcare converage condition included values 1, 2 and 9 denoting coverage, no converage and unknown respectively. For the purpose of our investigation, unknown coverage is dropped and no coverage data is replaced with the value of 0 for binary representation."
   ]
  },
  {
   "cell_type": "code",
   "execution_count": 18,
   "id": "e3cacfad",
   "metadata": {},
   "outputs": [
    {
     "data": {
      "text/plain": [
       "1    65669\n",
       "2     6369\n",
       "9      719\n",
       "Name: HINOTCOVE, dtype: int64"
      ]
     },
     "execution_count": 18,
     "metadata": {},
     "output_type": "execute_result"
    }
   ],
   "source": [
    "#Inspect\n",
    "dataHealth['HINOTCOVE'].value_counts()"
   ]
  },
  {
   "cell_type": "code",
   "execution_count": 19,
   "id": "4d40b957",
   "metadata": {},
   "outputs": [
    {
     "data": {
      "text/plain": [
       "1    65669\n",
       "0     6369\n",
       "Name: HINOTCOVE, dtype: int64"
      ]
     },
     "execution_count": 19,
     "metadata": {},
     "output_type": "execute_result"
    }
   ],
   "source": [
    "### HINOTCOVE\n",
    "# Droping \"9\" unknown data\n",
    "strange = dataHealth[dataHealth['HINOTCOVE']==9]\n",
    "dataHealth = dataHealth.drop(strange.index)\n",
    "\n",
    "# Replacing \"2\" (Not Covered) \"0\"\n",
    "dataHealth['HINOTCOVE'] = dataHealth['HINOTCOVE'].replace(2,0)\n",
    "\n",
    "dataHealth['HINOTCOVE'].value_counts()"
   ]
  },
  {
   "cell_type": "markdown",
   "id": "83ac7ff5",
   "metadata": {},
   "source": [
    "<a class = 'anchor' id= 'anchor3.4'></a>\n",
    "## Graphed Trends and Analytics"
   ]
  },
  {
   "cell_type": "markdown",
   "id": "d1bd1e83",
   "metadata": {},
   "source": [
    "### Complete Dataset Summary Statistics"
   ]
  },
  {
   "cell_type": "code",
   "execution_count": 20,
   "id": "91820abd",
   "metadata": {},
   "outputs": [
    {
     "data": {
      "text/html": [
       "<div>\n",
       "<style scoped>\n",
       "    .dataframe tbody tr th:only-of-type {\n",
       "        vertical-align: middle;\n",
       "    }\n",
       "\n",
       "    .dataframe tbody tr th {\n",
       "        vertical-align: top;\n",
       "    }\n",
       "\n",
       "    .dataframe thead th {\n",
       "        text-align: right;\n",
       "    }\n",
       "</style>\n",
       "<table border=\"1\" class=\"dataframe\">\n",
       "  <thead>\n",
       "    <tr style=\"text-align: right;\">\n",
       "      <th></th>\n",
       "      <th>WHITE</th>\n",
       "      <th>BLACK</th>\n",
       "      <th>OTHER</th>\n",
       "      <th>SEX</th>\n",
       "      <th>AGE</th>\n",
       "      <th>HINOTCOV</th>\n",
       "      <th>HEALTH</th>\n",
       "    </tr>\n",
       "  </thead>\n",
       "  <tbody>\n",
       "    <tr>\n",
       "      <th>count</th>\n",
       "      <td>3214539.0000</td>\n",
       "      <td>3214539.0000</td>\n",
       "      <td>3214539.0000</td>\n",
       "      <td>72038.0000</td>\n",
       "      <td>72038.0000</td>\n",
       "      <td>72038.0000</td>\n",
       "      <td>72038.0000</td>\n",
       "    </tr>\n",
       "    <tr>\n",
       "      <th>mean</th>\n",
       "      <td>0.7684</td>\n",
       "      <td>0.0965</td>\n",
       "      <td>0.1351</td>\n",
       "      <td>0.5117</td>\n",
       "      <td>39.9076</td>\n",
       "      <td>0.9116</td>\n",
       "      <td>2.1243</td>\n",
       "    </tr>\n",
       "    <tr>\n",
       "      <th>std</th>\n",
       "      <td>0.4219</td>\n",
       "      <td>0.2953</td>\n",
       "      <td>0.3419</td>\n",
       "      <td>0.4999</td>\n",
       "      <td>23.3864</td>\n",
       "      <td>0.2839</td>\n",
       "      <td>1.0499</td>\n",
       "    </tr>\n",
       "    <tr>\n",
       "      <th>min</th>\n",
       "      <td>0.0000</td>\n",
       "      <td>0.0000</td>\n",
       "      <td>0.0000</td>\n",
       "      <td>0.0000</td>\n",
       "      <td>0.0000</td>\n",
       "      <td>0.0000</td>\n",
       "      <td>1.0000</td>\n",
       "    </tr>\n",
       "    <tr>\n",
       "      <th>25%</th>\n",
       "      <td>1.0000</td>\n",
       "      <td>0.0000</td>\n",
       "      <td>0.0000</td>\n",
       "      <td>0.0000</td>\n",
       "      <td>19.0000</td>\n",
       "      <td>1.0000</td>\n",
       "      <td>1.0000</td>\n",
       "    </tr>\n",
       "    <tr>\n",
       "      <th>50%</th>\n",
       "      <td>1.0000</td>\n",
       "      <td>0.0000</td>\n",
       "      <td>0.0000</td>\n",
       "      <td>1.0000</td>\n",
       "      <td>40.0000</td>\n",
       "      <td>1.0000</td>\n",
       "      <td>2.0000</td>\n",
       "    </tr>\n",
       "    <tr>\n",
       "      <th>75%</th>\n",
       "      <td>1.0000</td>\n",
       "      <td>0.0000</td>\n",
       "      <td>0.0000</td>\n",
       "      <td>1.0000</td>\n",
       "      <td>59.0000</td>\n",
       "      <td>1.0000</td>\n",
       "      <td>3.0000</td>\n",
       "    </tr>\n",
       "    <tr>\n",
       "      <th>max</th>\n",
       "      <td>1.0000</td>\n",
       "      <td>1.0000</td>\n",
       "      <td>1.0000</td>\n",
       "      <td>1.0000</td>\n",
       "      <td>85.0000</td>\n",
       "      <td>1.0000</td>\n",
       "      <td>5.0000</td>\n",
       "    </tr>\n",
       "  </tbody>\n",
       "</table>\n",
       "</div>"
      ],
      "text/plain": [
       "             WHITE        BLACK        OTHER        SEX        AGE   HINOTCOV  \\\n",
       "count 3214539.0000 3214539.0000 3214539.0000 72038.0000 72038.0000 72038.0000   \n",
       "mean        0.7684       0.0965       0.1351     0.5117    39.9076     0.9116   \n",
       "std         0.4219       0.2953       0.3419     0.4999    23.3864     0.2839   \n",
       "min         0.0000       0.0000       0.0000     0.0000     0.0000     0.0000   \n",
       "25%         1.0000       0.0000       0.0000     0.0000    19.0000     1.0000   \n",
       "50%         1.0000       0.0000       0.0000     1.0000    40.0000     1.0000   \n",
       "75%         1.0000       0.0000       0.0000     1.0000    59.0000     1.0000   \n",
       "max         1.0000       1.0000       1.0000     1.0000    85.0000     1.0000   \n",
       "\n",
       "          HEALTH  \n",
       "count 72038.0000  \n",
       "mean      2.1243  \n",
       "std       1.0499  \n",
       "min       1.0000  \n",
       "25%       1.0000  \n",
       "50%       2.0000  \n",
       "75%       3.0000  \n",
       "max       5.0000  "
      ]
     },
     "execution_count": 20,
     "metadata": {},
     "output_type": "execute_result"
    }
   ],
   "source": [
    "summary_stats = dataRace[['WHITE','BLACK','OTHER']].describe()\n",
    "summary_stats['SEX'] = dataHealth['sexFem'].describe()\n",
    "summary_stats['AGE'] = dataHealth['AGE'].describe()\n",
    "summary_stats['HINOTCOV'] = dataHealth['HINOTCOVE'].describe()\n",
    "summary_stats['HEALTH'] = dataHealth['HEALTH'].describe()\n",
    "summary_stats"
   ]
  },
  {
   "cell_type": "markdown",
   "id": "d5f7a6b5",
   "metadata": {},
   "source": [
    "Our summary statistics table depicts the variables WHITE, BLACK, OTHER, SEX, AGE, HINOTCOV (Health Insurance - Insured, uninsured), and HEALTH. Beginning with the race variables, we can see that the mean of the WHITE race is 0.7684, BLACK - 0.0965, and OTHER 0.1351. These values represent the proportion of the sample that is each race. \n",
    "\n",
    "\n",
    "The SEX variable’s mean also represents the proportion of the population that is female, since we cleaned our variable to represent 1 if female and 0 if male. \n",
    "\n",
    "\n",
    "The AGE variable is continuous, therefore the mean represents the average age of our sample, which is nearly 40 years old. The first quartile is 19 years old, median 40 years old and third quartile 59 years old. The maximum age for our sample is 85 years old.\n",
    "\n",
    "\n",
    "HINOTCOV is also a binary variable, where 0 indicates not covered, and 1 indicates covered. Therefore the mean, 0. represents the proportion of the sample that is covered by health insurance. \n",
    "\n",
    "\n",
    "Our HEALTH variable is a categorical variable that ranges from 1 - 5, 1 being excellent, and 5 being poor. The mean of the variable therefore represents the average self-reported health status. This value is less than 2.5, meaning the average health status is relatively good. \n"
   ]
  },
  {
   "cell_type": "markdown",
   "id": "cadb131c",
   "metadata": {},
   "source": [
    "### Dataset Plots"
   ]
  },
  {
   "cell_type": "code",
   "execution_count": 21,
   "id": "caa450df",
   "metadata": {},
   "outputs": [
    {
     "name": "stderr",
     "output_type": "stream",
     "text": [
      "/var/folders/fw/91qdgmdn2hs9hhml_fkgq8jw0000gn/T/ipykernel_75020/1043690469.py:1: FutureWarning: \n",
      "\n",
      "The `ci` parameter is deprecated. Use `errorbar=None` for the same effect.\n",
      "\n",
      "  bar = sns.barplot(data=dataHealth, x='HINOTCOVE', y='HEALTH',ci=None)\n"
     ]
    },
    {
     "data": {
      "image/png": "[encoded data removed]",
      "text/plain": [
       "<Figure size 640x480 with 1 Axes>"
      ]
     },
     "metadata": {},
     "output_type": "display_data"
    }
   ],
   "source": [
    "bar = sns.barplot(data=dataHealth, x='HINOTCOVE', y='HEALTH',ci=None)\n",
    "bar.set(title= \"Health for Different Health Care Coverage\", xlabel=\"Health Care Coverage\", \n",
    "        ylabel=\"Level of Health\",xticklabels=['Not Covered','Covered']);"
   ]
  },
  {
   "cell_type": "markdown",
   "id": "d05a97e0",
   "metadata": {},
   "source": [
    "Our first barplot plots the mean health level by health care coverage status. The difference between the health status between the two is visually quite small, and both levels of health are below 2.5, meaning that both groups average self-reported health status is quite good. Nevertheless, the small difference tells us that the health of those who are insured is slightly better since the health level is lower ( 1 = excellent, 5 = poor ). "
   ]
  },
  {
   "cell_type": "code",
   "execution_count": 22,
   "id": "ed9530f6",
   "metadata": {},
   "outputs": [
    {
     "name": "stderr",
     "output_type": "stream",
     "text": [
      "/var/folders/fw/91qdgmdn2hs9hhml_fkgq8jw0000gn/T/ipykernel_75020/2872404713.py:1: FutureWarning: \n",
      "\n",
      "The `ci` parameter is deprecated. Use `errorbar=None` for the same effect.\n",
      "\n",
      "  bar = sns.barplot(data=dataHealth, x='HINOTCOVE', y='HEALTH',hue='age_cat',ci=None)\n"
     ]
    },
    {
     "data": {
      "image/png": "[encoded data removed]",
      "text/plain": [
       "<Figure size 640x480 with 1 Axes>"
      ]
     },
     "metadata": {},
     "output_type": "display_data"
    }
   ],
   "source": [
    "bar = sns.barplot(data=dataHealth, x='HINOTCOVE', y='HEALTH',hue='age_cat',ci=None)\n",
    "bar.set(title= \"Healthcare Coverage for Different Levels of Health (cagtegorised by age)\", \n",
    "        xlabel=\"Health Care Covereage\", ylabel=\"Level of Health\",xticklabels=['Not Covered','Covered']);"
   ]
  },
  {
   "cell_type": "markdown",
   "id": "d80e0609",
   "metadata": {},
   "source": [
    "Our second barplot plots the level of health for each age group and compares insured and uninsured. Similar to the previous plot, there are small visual differences for each age group when comparing the insured and uninsured, but overall the trend is that those who are insured have better health levels. In contrast, there are marked differences between the health levels of each age group. We can see that between the age groups young, middle and senior, the self-reported health level becomes higher, meaning worse. The young and middle age groups’ health levels are below 2.5, meaning their health levels are relatively good. The senior age group, however, show health levels above 2.5, indicating their healths are relatively poorer. This is expected as more health complications arise as people age. "
   ]
  },
  {
   "cell_type": "markdown",
   "id": "f5fbecf8",
   "metadata": {},
   "source": [
    "<a class = 'anchor' id= 'anchor3.5'></a>\n",
    "## Hypothesis Testing"
   ]
  },
  {
   "cell_type": "markdown",
   "id": "e59f61a9",
   "metadata": {},
   "source": [
    "### Hypothesis Testing Difference in Mean Health Between Different Healthcare Coverage\n",
    "- Note: Health is scored as 1 being the highest level of health, to 5 being the worse, therefore, a statisticlly significant lower tail test indicates the first group has a higher level of health. Opposingly, a significant upper tail score indicates the first group haas the lower level of health."
   ]
  },
  {
   "cell_type": "code",
   "execution_count": 23,
   "id": "2b329807",
   "metadata": {},
   "outputs": [
    {
     "name": "stdout",
     "output_type": "stream",
     "text": [
      "Test statistic:  4.5657\n",
      "P-value:  0.0\n"
     ]
    }
   ],
   "source": [
    "notCov = dataHealth[dataHealth['HINOTCOVE'] == 0]['HEALTH']\n",
    "cov = dataHealth[dataHealth['HINOTCOVE'] == 1]['HEALTH']\n",
    "\n",
    "\n",
    "test_cov = ttest_ind(notCov,cov)\n",
    "print('Test statistic: ', round(test_cov[0], 4))\n",
    "print('P-value: ', round(test_cov[1], 4))"
   ]
  },
  {
   "cell_type": "markdown",
   "id": "c797ff80",
   "metadata": {},
   "source": [
    "P-value<5%: Statistically Significant.\n",
    "<br>\n",
    "There is evidence of a difference in health between those covered by healthcare and those not"
   ]
  },
  {
   "cell_type": "markdown",
   "id": "f37fa720",
   "metadata": {},
   "source": [
    "#### Lower Tail Test"
   ]
  },
  {
   "cell_type": "code",
   "execution_count": 24,
   "id": "9ad4a520",
   "metadata": {},
   "outputs": [
    {
     "name": "stdout",
     "output_type": "stream",
     "text": [
      "Test statistic:  4.5657\n",
      "P-value:  1.0\n"
     ]
    }
   ],
   "source": [
    "# Lower-Tail Test\n",
    "test_cov = ttest_ind(notCov,cov, alternative = 'less')\n",
    "print('Test statistic: ', round(test_cov[0], 4))\n",
    "print('P-value: ', round(test_cov[1], 4))"
   ]
  },
  {
   "cell_type": "markdown",
   "id": "28c1d3cc",
   "metadata": {},
   "source": [
    "P-value>5%: Statistically insignificant.\n",
    "<br>\n",
    "There is no evidence that those not covered by healthcare have a higher level health than those covered."
   ]
  },
  {
   "cell_type": "markdown",
   "id": "e853e1c7",
   "metadata": {},
   "source": [
    "#### Upper Tail Test"
   ]
  },
  {
   "cell_type": "code",
   "execution_count": 25,
   "id": "0a9724e8",
   "metadata": {},
   "outputs": [
    {
     "name": "stdout",
     "output_type": "stream",
     "text": [
      "Test statistic:  4.5657\n",
      "P-value:  0.0\n"
     ]
    }
   ],
   "source": [
    "# Lower-Tail Test\n",
    "test_cov = ttest_ind(notCov,cov, alternative = 'greater')\n",
    "print('Test statistic: ', round(test_cov[0], 4))\n",
    "print('P-value: ', round(test_cov[1], 4))"
   ]
  },
  {
   "cell_type": "markdown",
   "id": "08f35ad4",
   "metadata": {},
   "source": [
    "P-value<5%: Not Statistically Significant.\n",
    "<br>\n",
    "There is evidence that those not covered by healthcare have a lower level of health than those covered."
   ]
  },
  {
   "cell_type": "markdown",
   "id": "2290110c",
   "metadata": {},
   "source": [
    "### Hypothesis Testing for Difference in Mean Health Between Different Ages\n",
    "- Note: Health is scored as 1 being the highest level of health, to 5 being the worse, therefore, a statisticlly significant lower tail test indicates the first group has a higher level of health. Opposingly, a significant upper tail score indicates the first group haas the lower level of health."
   ]
  },
  {
   "cell_type": "code",
   "execution_count": 26,
   "id": "38e66adb",
   "metadata": {},
   "outputs": [
    {
     "name": "stdout",
     "output_type": "stream",
     "text": [
      "Difference in Mean Health Between Young and Middle Age Correlation to Health\n",
      "Test statistic:  -68.4161\n",
      "P-value:  0.0\n",
      "\n",
      "Difference in Mean Health Between Middle and Senior\n",
      "Test statistic:  -46.5346\n",
      "P-value:  0.0\n"
     ]
    }
   ],
   "source": [
    "young = dataHealth[dataHealth['age_cat'] == 'young']['HEALTH']\n",
    "middle = dataHealth[dataHealth['age_cat'] == 'middle']['HEALTH']\n",
    "senior = dataHealth[dataHealth['age_cat'] == 'senior']['HEALTH']\n",
    "\n",
    "test_agelow = ttest_ind(young,middle)\n",
    "test_ageup = ttest_ind(middle,senior)\n",
    "print('Difference in Mean Health Between Young and Middle Age Correlation to Health')\n",
    "print('Test statistic: ', round(test_agelow[0], 4))\n",
    "print('P-value: ', round(test_agelow[1], 4))\n",
    "print('')\n",
    "print('Difference in Mean Health Between Middle and Senior')\n",
    "print('Test statistic: ', round(test_ageup[0], 4))\n",
    "print('P-value: ', round(test_ageup[1], 4))"
   ]
  },
  {
   "cell_type": "markdown",
   "id": "d58aff2d",
   "metadata": {},
   "source": [
    "P-value<5%: Statistically Significant (Different in mean health between all threee Young, Middle, Senior).\n",
    "<br>\n",
    "There is evidence that there is a different in mean health between ages."
   ]
  },
  {
   "cell_type": "markdown",
   "id": "97789cb6",
   "metadata": {},
   "source": [
    "#### Lower Tail Test"
   ]
  },
  {
   "cell_type": "code",
   "execution_count": 27,
   "id": "35fa56b8",
   "metadata": {},
   "outputs": [
    {
     "name": "stdout",
     "output_type": "stream",
     "text": [
      "Lower Tail Test for Difference in Mean Health between Young and Middle Age\n",
      "Test statistic:  -68.4161\n",
      "P-value:  0.0\n",
      "\n",
      "Lower Tail Test for Difference in Mean Health between Middle and Senior Age\n",
      "Test statistic:  -46.5346\n",
      "P-value:  0.0\n"
     ]
    }
   ],
   "source": [
    "# Lower-Tail Test\n",
    "test_age1 = ttest_ind(young,middle, alternative = 'less')\n",
    "test_age2 = ttest_ind(middle,senior, alternative = 'less')\n",
    "\n",
    "print('Lower Tail Test for Difference in Mean Health between Young and Middle Age')\n",
    "print('Test statistic: ', round(test_age1[0], 4))\n",
    "print('P-value: ', round(test_age1[1], 4))\n",
    "print()\n",
    "\n",
    "print('Lower Tail Test for Difference in Mean Health between Middle and Senior Age')\n",
    "print('Test statistic: ', round(test_age2[0], 4))\n",
    "print('P-value: ', round(test_age2[1], 4))"
   ]
  },
  {
   "cell_type": "markdown",
   "id": "4ce049bc",
   "metadata": {},
   "source": [
    "P-value<5% for both lower tail test, both difference in means are: Statistically Significant.\n",
    "<br>\n",
    "There is evidence that younger people have a higher level of health than middle age people. \n",
    "<br>\n",
    "There is also evidence that middle age people have a higher level of health than senior people."
   ]
  },
  {
   "cell_type": "markdown",
   "id": "be5d619f",
   "metadata": {},
   "source": [
    "#### Upper Tail Test"
   ]
  },
  {
   "cell_type": "code",
   "execution_count": 28,
   "id": "d24b4770",
   "metadata": {},
   "outputs": [
    {
     "name": "stdout",
     "output_type": "stream",
     "text": [
      "Upper Tail Test for Difference in Mean Health between Young and Middle Age\n",
      "Test statistic:  -68.4161\n",
      "P-value:  1.0\n",
      "\n",
      "Upper Tail Test for Difference in Mean Health between Middle and Senior Age\n",
      "Test statistic:  -46.5346\n",
      "P-value:  1.0\n"
     ]
    }
   ],
   "source": [
    "# Upper-Tail Test\n",
    "test_age1 = ttest_ind(young,middle, alternative = 'greater')\n",
    "test_age2 = ttest_ind(middle,senior, alternative = 'greater')\n",
    "\n",
    "print('Upper Tail Test for Difference in Mean Health between Young and Middle Age')\n",
    "print('Test statistic: ', round(test_age1[0], 4))\n",
    "print('P-value: ', round(test_age1[1], 4))\n",
    "print()\n",
    "\n",
    "print('Upper Tail Test for Difference in Mean Health between Middle and Senior Age')\n",
    "print('Test statistic: ', round(test_age2[0], 4))\n",
    "print('P-value: ', round(test_age2[1], 4))"
   ]
  },
  {
   "cell_type": "markdown",
   "id": "8c96d0d7",
   "metadata": {},
   "source": [
    "P-value>5% for both upper tail test, both corrilations are: Statistically Insignificant.\n",
    "<br>\n",
    "There is no evidence that younger people have a lower level health than middle age people. \n",
    "<br>\n",
    "There is also no evidence that middle age people have a lower level health than senior people. "
   ]
  },
  {
   "cell_type": "markdown",
   "id": "3deae011",
   "metadata": {},
   "source": [
    "### Hypothesis Testing for for Difference in Mean Health Between Sex\n",
    "- Note: Health is scored as 1 being the highest level of health, to 5 being the worse, therefore, a statisticlly significant lower tail test indicates the first group has a higher level of health. Opposingly, a significant upper tail score indicates the first group haas the lower level of health."
   ]
  },
  {
   "cell_type": "code",
   "execution_count": 29,
   "id": "5ab35298",
   "metadata": {},
   "outputs": [
    {
     "name": "stdout",
     "output_type": "stream",
     "text": [
      "Test statistic:  6.5217\n",
      "P-value:  0.0\n"
     ]
    }
   ],
   "source": [
    "fem = dataHealth[dataHealth['sexFem'] == 1]['HEALTH']\n",
    "male = dataHealth[dataHealth['sexFem'] == 0]['HEALTH']\n",
    "\n",
    "\n",
    "test_sex = ttest_ind(fem,male)\n",
    "print('Test statistic: ', round(test_sex[0], 4))\n",
    "print('P-value: ', round(test_sex[1], 4))"
   ]
  },
  {
   "cell_type": "markdown",
   "id": "6efe8890",
   "metadata": {},
   "source": [
    "P-value<5%: Statistically Significant.\n",
    "<br>\n",
    "There is evidence of a difference in mean health between the sexes."
   ]
  },
  {
   "cell_type": "markdown",
   "id": "d3a23802",
   "metadata": {},
   "source": [
    "#### Lower Tail Test"
   ]
  },
  {
   "cell_type": "code",
   "execution_count": 30,
   "id": "fff3fe6d",
   "metadata": {},
   "outputs": [
    {
     "name": "stdout",
     "output_type": "stream",
     "text": [
      "Lower Tail Test for Difference in Mean Health Between Female and Male\n",
      "Test statistic:  6.5217\n",
      "P-value:  1.0\n"
     ]
    }
   ],
   "source": [
    "# Lower-Tail Test\n",
    "test_sex = ttest_ind(fem,male, alternative = 'less')\n",
    "\n",
    "print('Lower Tail Test for Difference in Mean Health Between Female and Male')\n",
    "print('Test statistic: ', round(test_sex[0], 4))\n",
    "print('P-value: ', round(test_sex[1], 4))"
   ]
  },
  {
   "cell_type": "markdown",
   "id": "96df4499",
   "metadata": {},
   "source": [
    "P-value>5%: Statistically Insignificant.\n",
    "<br>\n",
    "There is no evidence that females have a higher level of health than males."
   ]
  },
  {
   "cell_type": "markdown",
   "id": "39214441",
   "metadata": {},
   "source": [
    "#### Upper Tail Test"
   ]
  },
  {
   "cell_type": "code",
   "execution_count": 31,
   "id": "87d22c9c",
   "metadata": {},
   "outputs": [
    {
     "name": "stdout",
     "output_type": "stream",
     "text": [
      "Upper Tail Test for Difference in Mean Health Between Female and Male\n",
      "Test statistic:  6.5217\n",
      "P-value:  0.0\n"
     ]
    }
   ],
   "source": [
    "# Upper-Tail Test\n",
    "test_sex = ttest_ind(fem,male, alternative = 'greater')\n",
    "\n",
    "print('Upper Tail Test for Difference in Mean Health Between Female and Male')\n",
    "print('Test statistic: ', round(test_sex[0], 4))\n",
    "print('P-value: ', round(test_sex[1], 4))"
   ]
  },
  {
   "cell_type": "markdown",
   "id": "00277548",
   "metadata": {},
   "source": [
    "P-value<5%: Statistically Significant.\n",
    "<br>\n",
    "There is evidence that females have a lower level of health health than males."
   ]
  },
  {
   "cell_type": "markdown",
   "id": "a9edfdd2",
   "metadata": {},
   "source": [
    "### Hypothesis Testing Analysis"
   ]
  },
  {
   "cell_type": "markdown",
   "id": "ed20cc53",
   "metadata": {},
   "source": [
    "Our hypothesis tests all result in a p-value of 0. This informs us that there is a difference between the means of health for the insured and uninsured, as well as between age groups and sex. We conclude that this is largely due to the massive sample size. With more than 70000 individuals in the sample, even small differences are much more pronounced, resulting in a technically statistically significant result. The p-value of 0 simply tells us that the difference between the two groups did not happen by chance, but that does not allow us to make an informed conclusion between, for example, having health insurance and health improvement in a practical sense, as well as all the other variables we tested for.  "
   ]
  },
  {
   "cell_type": "markdown",
   "id": "dfeb2c67",
   "metadata": {},
   "source": [
    "<a class = 'anchor' id= 'anchor4'></a>\n",
    "# Conclusions"
   ]
  },
  {
   "cell_type": "markdown",
   "id": "57464a05",
   "metadata": {},
   "source": [
    "In summary, our research provides subtle insights into the workings of the complicated American healthcare system by examining the relationship between health insurance and overall health outcomes. The United States struggles with health outcomes that lag behind its OECD rivals despite its large healthcare expenditures. Our analysis utilizing IPUMS Health Surveys illuminates the complex relationship between health insurance coverage and individual health status, even though health insurance accounts for a sizable share of national health expenditures.\n",
    "\t\n",
    "Examining the data, we observe a very small correlation between health insurance coverage and improved health outcomes. People who have health insurance typically report being in better overall health by a slight margin, which suggests that having access to healthcare services and having financial security against medical bills may improve people's overall health. Nevertheless, a variety of factors other than insurance coverage may affect health outcomes, as correlation does not imply causation. \n",
    "\n",
    "\n",
    "Due to the p-value being 0 for all hypothesis testing results, we can confidently say that there are other socioeconomic factors that affect people’s overall health. These can include the individual's diet, income level, genetics, etc.\n",
    "\n",
    "Ultimately, this study adds to the ongoing debate in the United States over healthcare policy, emphasizing the importance of evidence-based decision-making and focused interventions to close existing gaps in health outcomes. As policymakers continue to navigate the complexities of the healthcare sector, our findings highlight the fact that having health insurance tends to lead to greater overall health by a slight margin. Yet, there are significantly more broader societal elements that influence the health of the nation's residents."
   ]
  },
  {
   "cell_type": "markdown",
   "id": "b47e5369",
   "metadata": {},
   "source": [
    "<a class = 'anchor' id= 'anchor5'></a>\n",
    "# Work Cited"
   ]
  },
  {
   "cell_type": "markdown",
   "id": "3c17c5dd",
   "metadata": {},
   "source": [
    "Farag, Marwa, et al. “Health Expenditures, Health Outcomes and the Role of Good Governance.” International Journal of Health Care Finance and Economics, vol. 13, no. 1, 2013, pp. 33–52. JSTOR, http://www.jstor.org/stable/23352541. Accessed 27 Oct. 2023.\n",
    "\n",
    "\n",
    "Freeman, Joseph D., et al. “The Causal Effect of Health Insurance on Utilization and Outcomes in Adults: A Systematic Review of US Studies.” Medical Care, vol. 46, no. 10, 2008, pp. 1023–32. JSTOR, http://www.jstor.org/stable/40221801. Accessed 3 Dec. 2023.\n",
    "\n",
    "\n",
    "Gunja, Munira Z., et al. “U.S. Health Care from a Global Perspective, 2022: Accelerating Spending, Worsening Outcomes.” U.S. Health Care from a Global Perspective, 2022 | Commonwealth Fund, The Commonwealth Fund, 31 Jan. \n",
    "2023,www.commonwealthfund.org/publications/issue-briefs/2023/jan/us-health-care-global-perspective-2022. \n",
    "\n",
    "\n",
    "Levy, Helen, and David Meltzer. “The impact of health insurance on Health.” Annual Review of Public Health, vol. 29, no. 1, 2008, pp. 399–409, https://doi.org/10.1146/annurev.publhealth.28.021406.144042. \n",
    "\n",
    "\n",
    "Lynn A. Blewett, Julia A. Rivera Drew, Miriam L. King and Kari C.W. Williams, Annie Chen, Stephanie Richards and Michael Westberry. IPUMS Health Surveys: National Health Interview Survey, Version 7.3 [HINOTCOVE]. Minneapolis, MN: IPUMS, 2023. https://doi.org/10.18128/D070.V7.3\n",
    "\n",
    "\n",
    "Lynn A. Blewett, Julia A. Rivera Drew, Miriam L. King and Kari C.W. Williams, Annie Chen, Stephanie Richards and Michael Westberry. IPUMS Health Surveys: National Health Interview Survey, Version 7.3 [HEALTH]. Minneapolis, MN: IPUMS, 2023. https://doi.org/10.18128/D070.V7.3\n",
    "\n",
    "\n",
    "Martin, Anne B., et al. “National Health Care Spending in 2021: Decline in federal spending outweighs greater use of health care.” Health Affairs, vol. 42, no. 1, 2023, pp. 6–17, https://doi.org/10.1377/hlthaff.2022.01397. \n",
    "\n",
    "\n",
    "McWilliams, J Michael. “Health consequences of uninsurance among adults in the United States: recent evidence and implications.” The Milbank quarterly vol. 87,2 (2009): 443-94. doi:10.1111/j.1468-0009.2009.00564.x. Accessed 27 Oct. 2023\n",
    "\n",
    "\n",
    "“NHE Fact Sheet.” CMS.Gov, Centers for Medicare and Medicaid Services, 9 June 2023, www.cms.gov/data-research/statistics-trends-and-reports/national-health-expenditure-data/nhe-fact-sheet#:~:text=Historical%20NHE%2C%202021%3A,17%20percent%20of%20total%20NHE. \n",
    "\n",
    "\n",
    "Nixon, John, and Philippe Ulmann. “The Relationship between Health Care Expenditure and Health Outcomes: Evidence and Caveats for a Causal Link.” The European Journal of Health Economics, vol. 7, no. 1, 2006, pp. 7–18. JSTOR, http://www.jstor.org/stable/20445502. Accessed 27 Oct. 2023.\n",
    "\n",
    "\n",
    "Spithoven, A. H. G. M. “Why U.S. Health Care Expenditure and Ranking on Health Care Indicators Are so Different from Canada’s.” International Journal of Health Care Finance and Economics, vol. 9, no. 1, 2009, pp. 1–24. JSTOR, http://www.jstor.org/stable/40270601. Accessed 27 Oct. 2023.\n",
    "\n",
    "\n",
    "Steven Ruggles, Sarah Flood, Matthew Sobek, Daniel Backman, Annie Chen, Grace Cooper, Stephanie Richards, Renae Rogers, and Megan Schouweiler. IPUMS USA: Version 14.0 [AGE]. Minneapolis, MN: IPUMS, 2023. https://doi.org/10.18128/D010.V14.0\n",
    "\n",
    "\n",
    "Steven Ruggles, Sarah Flood, Matthew Sobek, Daniel Backman, Annie Chen, Grace Cooper, Stephanie Richards, Renae Rogers, and Megan Schouweiler. IPUMS USA: Version 14.0 [SEX]. Minneapolis, MN: IPUMS, 2023. https://doi.org/10.18128/D010.V14.0\n",
    "\n",
    "\n",
    "Steven Ruggles, Sarah Flood, Matthew Sobek, Daniel Backman, Annie Chen, Grace Cooper, Stephanie Richards, Renae Rogers, and Megan Schouweiler. IPUMS USA: Version 14.0 [RACE]. Minneapolis, MN: IPUMS, 2023. https://doi.org/10.18128/D010.V14.0\n"
   ]
  }
 ],
 "metadata": {
  "kernelspec": {
   "display_name": "Python 3 (ipykernel)",
   "language": "python",
   "name": "python3"
  },
  "language_info": {
   "codemirror_mode": {
    "name": "ipython",
    "version": 3
   },
   "file_extension": ".py",
   "mimetype": "text/x-python",
   "name": "python",
   "nbconvert_exporter": "python",
   "pygments_lexer": "ipython3",
   "version": "3.11.4"
  }
 },
 "nbformat": 4,
 "nbformat_minor": 5
}
